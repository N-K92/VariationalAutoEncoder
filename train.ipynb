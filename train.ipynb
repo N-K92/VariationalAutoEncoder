{
 "cells": [
  {
   "cell_type": "code",
   "execution_count": 2,
   "metadata": {},
   "outputs": [
    {
     "data": {
      "text/html": [
       "Finishing last run (ID:2182djox) before initializing another..."
      ],
      "text/plain": [
       "<IPython.core.display.HTML object>"
      ]
     },
     "metadata": {},
     "output_type": "display_data"
    },
    {
     "data": {
      "text/html": [
       "<br/>Waiting for W&B process to finish, PID 4814<br/>Program ended successfully."
      ],
      "text/plain": [
       "<IPython.core.display.HTML object>"
      ]
     },
     "metadata": {},
     "output_type": "display_data"
    },
    {
     "data": {
      "application/vnd.jupyter.widget-view+json": {
       "model_id": "",
       "version_major": 2,
       "version_minor": 0
      },
      "text/plain": [
       "VBox(children=(Label(value=' 0.73MB of 0.73MB uploaded (0.00MB deduped)\\r'), FloatProgress(value=1.0, max=1.0)…"
      ]
     },
     "metadata": {},
     "output_type": "display_data"
    },
    {
     "data": {
      "text/html": [
       "Find user logs for this run at: <code>/home/nadim/Desktop/autoencoder/wandb/run-20210221_210015-2182djox/logs/debug.log</code>"
      ],
      "text/plain": [
       "<IPython.core.display.HTML object>"
      ]
     },
     "metadata": {},
     "output_type": "display_data"
    },
    {
     "data": {
      "text/html": [
       "Find internal logs for this run at: <code>/home/nadim/Desktop/autoencoder/wandb/run-20210221_210015-2182djox/logs/debug-internal.log</code>"
      ],
      "text/plain": [
       "<IPython.core.display.HTML object>"
      ]
     },
     "metadata": {},
     "output_type": "display_data"
    },
    {
     "data": {
      "text/html": [
       "<h3>Run summary:</h3><br/><style>\n",
       "    table.wandb td:nth-child(1) { padding: 0 10px; text-align: right }\n",
       "    </style><table class=\"wandb\">\n",
       "<tr><td>epoch</td><td>9</td></tr><tr><td>val_loss</td><td>0.03293</td></tr><tr><td>loss</td><td>0.03951</td></tr><tr><td>_runtime</td><td>31</td></tr><tr><td>_timestamp</td><td>1613937646</td></tr><tr><td>_step</td><td>9</td></tr><tr><td>best_val_loss</td><td>0.03293</td></tr><tr><td>best_epoch</td><td>9</td></tr></table>"
      ],
      "text/plain": [
       "<IPython.core.display.HTML object>"
      ]
     },
     "metadata": {},
     "output_type": "display_data"
    },
    {
     "data": {
      "text/html": [
       "<h3>Run history:</h3><br/><style>\n",
       "    table.wandb td:nth-child(1) { padding: 0 10px; text-align: right }\n",
       "    </style><table class=\"wandb\">\n",
       "<tr><td>epoch</td><td>▁▂▃▃▄▅▆▆▇█</td></tr><tr><td>val_loss</td><td>█▅▄▃▃▂▂▁▁▁</td></tr><tr><td>loss</td><td>█▄▃▂▂▂▂▁▁▁</td></tr><tr><td>_runtime</td><td>▁▂▂▃▄▅▅▆▇█</td></tr><tr><td>_timestamp</td><td>▁▂▂▃▄▅▅▆▇█</td></tr><tr><td>_step</td><td>▁▂▃▃▄▅▆▆▇█</td></tr></table><br/>"
      ],
      "text/plain": [
       "<IPython.core.display.HTML object>"
      ]
     },
     "metadata": {},
     "output_type": "display_data"
    },
    {
     "data": {
      "text/html": [
       "Synced 5 W&B file(s), 81 media file(s), 0 artifact file(s) and 1 other file(s)"
      ],
      "text/plain": [
       "<IPython.core.display.HTML object>"
      ]
     },
     "metadata": {},
     "output_type": "display_data"
    },
    {
     "data": {
      "text/html": [
       "\n",
       "                    <br/>Synced <strong style=\"color:#cdcd00\">frosty-dream-33</strong>: <a href=\"https://wandb.ai/2513tamer/uncategorized/runs/2182djox\" target=\"_blank\">https://wandb.ai/2513tamer/uncategorized/runs/2182djox</a><br/>\n",
       "                "
      ],
      "text/plain": [
       "<IPython.core.display.HTML object>"
      ]
     },
     "metadata": {},
     "output_type": "display_data"
    },
    {
     "data": {
      "text/html": [
       "...Successfully finished last run (ID:2182djox). Initializing new run:<br/><br/>"
      ],
      "text/plain": [
       "<IPython.core.display.HTML object>"
      ]
     },
     "metadata": {},
     "output_type": "display_data"
    },
    {
     "name": "stderr",
     "output_type": "stream",
     "text": [
      "wandb: wandb version 0.10.19 is available!  To upgrade, please run:\n",
      "wandb:  $ pip install wandb --upgrade\n"
     ]
    },
    {
     "data": {
      "text/html": [
       "\n",
       "                Tracking run with wandb version 0.10.18<br/>\n",
       "                Syncing run <strong style=\"color:#cdcd00\">logical-sea-34</strong> to <a href=\"https://wandb.ai\" target=\"_blank\">Weights & Biases</a> <a href=\"https://docs.wandb.com/integrations/jupyter.html\" target=\"_blank\">(Documentation)</a>.<br/>\n",
       "                Project page: <a href=\"https://wandb.ai/2513tamer/uncategorized\" target=\"_blank\">https://wandb.ai/2513tamer/uncategorized</a><br/>\n",
       "                Run page: <a href=\"https://wandb.ai/2513tamer/uncategorized/runs/3k56r0ew\" target=\"_blank\">https://wandb.ai/2513tamer/uncategorized/runs/3k56r0ew</a><br/>\n",
       "                Run data is saved locally in <code>/home/nadim/Desktop/autoencoder/wandb/run-20210221_210120-3k56r0ew</code><br/><br/>\n",
       "            "
      ],
      "text/plain": [
       "<IPython.core.display.HTML object>"
      ]
     },
     "metadata": {},
     "output_type": "display_data"
    },
    {
     "name": "stdout",
     "output_type": "stream",
     "text": [
      "WARNING:tensorflow:From /home/nadim/anaconda3/lib/python3.7/site-packages/keras/backend/tensorflow_backend.py:4070: The name tf.nn.max_pool is deprecated. Please use tf.nn.max_pool2d instead.\n",
      "\n",
      "Model: \"sequential_2\"\n",
      "_________________________________________________________________\n",
      "Layer (type)                 Output Shape              Param #   \n",
      "=================================================================\n",
      "reshape_2 (Reshape)          (None, 28, 28, 1)         0         \n",
      "_________________________________________________________________\n",
      "conv2d_1 (Conv2D)            (None, 28, 28, 62)        620       \n",
      "_________________________________________________________________\n",
      "max_pooling2d_1 (MaxPooling2 (None, 14, 14, 62)        0         \n",
      "_________________________________________________________________\n",
      "batch_normalization_1 (Batch (None, 14, 14, 62)        248       \n",
      "_________________________________________________________________\n",
      "dropout_2 (Dropout)          (None, 14, 14, 62)        0         \n",
      "_________________________________________________________________\n",
      "conv2d_2 (Conv2D)            (None, 14, 14, 32)        17888     \n",
      "_________________________________________________________________\n",
      "batch_normalization_2 (Batch (None, 14, 14, 32)        128       \n",
      "_________________________________________________________________\n",
      "up_sampling2d_1 (UpSampling2 (None, 28, 28, 32)        0         \n",
      "_________________________________________________________________\n",
      "conv2d_3 (Conv2D)            (None, 28, 28, 1)         289       \n",
      "_________________________________________________________________\n",
      "batch_normalization_3 (Batch (None, 28, 28, 1)         4         \n",
      "_________________________________________________________________\n",
      "reshape_3 (Reshape)          (None, 28, 28)            0         \n",
      "=================================================================\n",
      "Total params: 19,177\n",
      "Trainable params: 18,987\n",
      "Non-trainable params: 190\n",
      "_________________________________________________________________\n",
      "Train on 60000 samples, validate on 10000 samples\n",
      "Epoch 1/10\n",
      "60000/60000 [==============================] - 81s 1ms/step - loss: 0.0854 - val_loss: 0.0152\n",
      "Epoch 2/10\n",
      "60000/60000 [==============================] - 91s 2ms/step - loss: 0.0154 - val_loss: 0.0158\n",
      "Epoch 3/10\n",
      "60000/60000 [==============================] - 93s 2ms/step - loss: 0.0156 - val_loss: 0.0200\n",
      "Epoch 4/10\n",
      "60000/60000 [==============================] - 91s 2ms/step - loss: 0.0159 - val_loss: 0.0222\n",
      "Epoch 5/10\n",
      "60000/60000 [==============================] - 93s 2ms/step - loss: 0.0160 - val_loss: 0.0226\n",
      "Epoch 6/10\n",
      "60000/60000 [==============================] - 94s 2ms/step - loss: 0.0161 - val_loss: 0.0145\n",
      "Epoch 7/10\n",
      "60000/60000 [==============================] - 91s 2ms/step - loss: 0.0162 - val_loss: 0.0243\n",
      "Epoch 8/10\n",
      "60000/60000 [==============================] - 92s 2ms/step - loss: 0.0164 - val_loss: 0.0192\n",
      "Epoch 9/10\n",
      "60000/60000 [==============================] - 89s 1ms/step - loss: 0.0165 - val_loss: 0.0177\n",
      "Epoch 10/10\n",
      "60000/60000 [==============================] - 91s 2ms/step - loss: 0.0166 - val_loss: 0.0164\n"
     ]
    }
   ],
   "source": [
    "from keras.layers import Input, Dense, Flatten, Reshape, Conv2D, UpSampling2D, MaxPooling2D, Dropout,BatchNormalization\n",
    "from keras.models import Model, Sequential\n",
    "from keras.datasets import mnist\n",
    "from keras.callbacks import Callback\n",
    "\n",
    "import numpy as np\n",
    "import wandb\n",
    "from wandb.keras import WandbCallback\n",
    "from keras.regularizers import l1\n",
    "\n",
    "def add_noise(x_train, x_test):\n",
    "    # Add some random noise to an image\n",
    "\n",
    "    noise_factor = 0.4\n",
    "    x_train_noisy = x_train + noise_factor * np.random.normal(loc=0.0, scale=1.0, size=x_train.shape) \n",
    "    x_test_noisy = x_test + noise_factor * np.random.normal(loc=0.0, scale=1.0, size=x_test.shape) \n",
    "    \n",
    "    x_train_noisy = np.clip(x_train_noisy, 0., 1.)\n",
    "    x_test_noisy = np.clip(x_test_noisy, 0., 1.)\n",
    "    return x_train_noisy, x_test_noisy\n",
    "\n",
    "run = wandb.init()\n",
    "config = run.config\n",
    "\n",
    "config.epochs = 10\n",
    "\n",
    "(x_train, _), (x_test, _) = mnist.load_data()\n",
    "(x_train_noisy, x_test_noisy) = add_noise(x_train, x_test)\n",
    "\n",
    "x_train = x_train.astype('float32') / 255.\n",
    "x_test = x_test.astype('float32') / 255.\n",
    "\n",
    "#model = Sequential()\n",
    "#model.add(Reshape((28,28,1), input_shape=(28,28)))\n",
    "#model.add(Conv2D(32, (3, 3), activation='relu', padding='same'))\n",
    "#model.add(MaxPooling2D(2,2))\n",
    "#model.add(BatchNormalization())\n",
    "#model.add(Dropout(0.2))\n",
    "#model.add(Conv2D(32, (3, 3), activation='relu', padding='same'))\n",
    "#model.add(Conv2D(32, (3, 3), activation='relu', padding='same'))\n",
    "#model.add(UpSampling2D((2, 2)))\n",
    "#model.add(Conv2D(1, (3, 3), activation='sigmoid', padding='same'))\n",
    "#model.add(Reshape((28,28)))\n",
    "\n",
    "\n",
    "model = Sequential()\n",
    "model.add(Reshape((28,28,1), input_shape=(28,28)))\n",
    "model.add(Conv2D(62, (3, 3), activation='relu', padding='same',kernel_regularizer=l1(0.01), bias_regularizer=l1(0.01)))\n",
    "model.add(MaxPooling2D(2,2))\n",
    "model.add(BatchNormalization())\n",
    "model.add(Dropout(0.2))\n",
    "model.add(Conv2D(32, (3, 3), activation='relu', padding='same'))\n",
    "model.add(BatchNormalization())\n",
    "#model.add(MaxPooling2D(2,2))\n",
    "#model.add(Conv2D(32, (3, 3), activation='relu', padding='same'))\n",
    "model.add(UpSampling2D((2, 2)))\n",
    "model.add(Conv2D(1, (3, 3), activation='sigmoid', padding='same'))\n",
    "model.add(BatchNormalization())\n",
    "model.add(Reshape((28,28)))\n",
    "\n",
    "model.compile(optimizer='adadelta', loss='mse')\n",
    "\n",
    "model.summary()\n",
    "\n",
    "# For visualization\n",
    "class Images(Callback):\n",
    "    def __init__(self, validation_data):\n",
    "        self.validation_data = validation_data\n",
    "    def on_epoch_end(self, epoch, logs):\n",
    "        indices = np.random.randint(self.validation_data[0].shape[0], size=8)\n",
    "        test_data = self.validation_data[0][indices]\n",
    "        pred_data = self.model.predict(test_data)\n",
    "        wandb.log({\n",
    "                  \"examples\": [\n",
    "                        wandb.Image(np.hstack([data, pred_data[i]]), caption=str(i))\n",
    "                        for i, data in enumerate(test_data)]},\n",
    "                  step=epoch)\n",
    "\n",
    "#model.fit(x_train, x_train,\n",
    "#                epochs=config.epochs,\n",
    "#                validation_data=(x_test, x_test),\n",
    "#          callbacks=[Images((x_test, x_test)), WandbCallback()])\n",
    "model.fit(x_train_noisy, x_train,\n",
    "                epochs=config.epochs,\n",
    "                validation_data=(x_test_noisy, x_test),\n",
    "          callbacks=[Images((x_test_noisy, x_test)), WandbCallback()])\n",
    "\n",
    "model.save('auto-cnn.h5')"
   ]
  },
  {
   "cell_type": "code",
   "execution_count": null,
   "metadata": {},
   "outputs": [],
   "source": []
  }
 ],
 "metadata": {
  "kernelspec": {
   "display_name": "Python 3",
   "language": "python",
   "name": "python3"
  },
  "language_info": {
   "codemirror_mode": {
    "name": "ipython",
    "version": 3
   },
   "file_extension": ".py",
   "mimetype": "text/x-python",
   "name": "python",
   "nbconvert_exporter": "python",
   "pygments_lexer": "ipython3",
   "version": "3.7.6"
  }
 },
 "nbformat": 4,
 "nbformat_minor": 4
}
