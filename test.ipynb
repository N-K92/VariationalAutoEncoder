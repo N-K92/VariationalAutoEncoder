{
 "cells": [
  {
   "cell_type": "code",
   "execution_count": null,
   "metadata": {},
   "outputs": [],
   "source": [
    "from keras.models import Model\n",
    "from keras.models import load_model\n",
    "\n",
    "from keras.datasets import mnist\n",
    "import numpy as np\n",
    "import cv2\n",
    "\n",
    "(x_train, _), (x_test, _) = mnist.load_data()\n",
    "\n",
    "model = load_model('auto-cnn.h5')\n",
    "\n",
    "def add_noise(x_train):\n",
    "    noise_factor = 0.9\n",
    "    x_train_noisy = x_train + noise_factor * np.random.normal(loc=0.0, scale=1.0, size=x_train.shape) \n",
    "    x_train_noisy = np.clip(x_train_noisy, 0., 1.)\n",
    "\n",
    "    return x_train_noisy\n",
    "x_train = x_train.astype('float32') / 255.\n",
    "x_test = x_test.astype('float32') / 255.\n",
    "# Specify the image index \n",
    "i = 3\n",
    "while(True):\n",
    "    k = cv2.waitKey(0)\n",
    "    if k == 27:         # wait for ESC key to exit\n",
    "        cv2.destroyAllWindows()\n",
    "        break\n",
    "    input_img = x_test[i]\n",
    "\n",
    "    if k == 32:   # space bar\n",
    "        pass\n",
    "    input_img = add_noise(input_img)\n",
    "    output_img = model.predict(input_img.reshape(1,28,28))[0].reshape(28,28,1)\n",
    "    cv2.imshow('input', input_img)\n",
    "    cv2.imshow('output', output_img) \n",
    "    i+=1"
   ]
  }
 ],
 "metadata": {
  "kernelspec": {
   "display_name": "Python 3",
   "language": "python",
   "name": "python3"
  },
  "language_info": {
   "codemirror_mode": {
    "name": "ipython",
    "version": 3
   },
   "file_extension": ".py",
   "mimetype": "text/x-python",
   "name": "python",
   "nbconvert_exporter": "python",
   "pygments_lexer": "ipython3",
   "version": "3.7.6"
  }
 },
 "nbformat": 4,
 "nbformat_minor": 4
}
